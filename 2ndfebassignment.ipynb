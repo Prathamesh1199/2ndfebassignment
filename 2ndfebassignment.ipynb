{
 "cells": [
  {
   "cell_type": "code",
   "execution_count": null,
   "id": "cf8d01a1-d7c8-44a6-9ca4-790271f01100",
   "metadata": {},
   "outputs": [],
   "source": [
    "1: A \"for\" loop is used when you have a definite number of iterations.\n",
    "     where we know how many times the loop needs to run.\n",
    "    Example: printing first '15' number using \"for\" loop.."
   ]
  },
  {
   "cell_type": "code",
   "execution_count": 11,
   "id": "1d6d3ee7-60e5-405d-9dbc-c553fba40ebb",
   "metadata": {},
   "outputs": [
    {
     "name": "stdout",
     "output_type": "stream",
     "text": [
      "1\n",
      "2\n",
      "3\n",
      "4\n",
      "5\n",
      "6\n",
      "7\n",
      "8\n",
      "9\n",
      "10\n",
      "11\n",
      "12\n",
      "13\n",
      "14\n",
      "15\n"
     ]
    }
   ],
   "source": [
    "for i in range(1,16):\n",
    "    print(i)"
   ]
  },
  {
   "cell_type": "code",
   "execution_count": null,
   "id": "5f3cd362-5f6e-40c9-9bfe-4db28eb7ffd9",
   "metadata": {},
   "outputs": [],
   "source": [
    "A \"while\" loop is used when you have an indefinite number of iterations.\n",
    " where we dont know the number of times loop needs to run.\n",
    "    Example: printing first '10' numbers using \"while\" loop"
   ]
  },
  {
   "cell_type": "code",
   "execution_count": 14,
   "id": "e3e797d2-40b9-41a1-869a-1bb02ddc29b3",
   "metadata": {},
   "outputs": [
    {
     "name": "stdout",
     "output_type": "stream",
     "text": [
      "1\n",
      "2\n",
      "3\n",
      "4\n",
      "5\n",
      "6\n",
      "7\n",
      "8\n",
      "9\n",
      "10\n"
     ]
    }
   ],
   "source": [
    "count = 1\n",
    "while count <= 10:\n",
    "    print(count)\n",
    "    count = count + 1"
   ]
  },
  {
   "cell_type": "code",
   "execution_count": null,
   "id": "be890d49-94b7-4032-ac27-5f3f0e2086f4",
   "metadata": {},
   "outputs": [],
   "source": []
  },
  {
   "cell_type": "code",
   "execution_count": null,
   "id": "fe6b1673-4899-4feb-9cd1-b820fd1831a3",
   "metadata": {},
   "outputs": [],
   "source": [
    "2: PROGRAM USING A \"for\" loop"
   ]
  },
  {
   "cell_type": "code",
   "execution_count": 15,
   "id": "228a4ea0-2b53-4da6-bee1-07c620e84624",
   "metadata": {},
   "outputs": [
    {
     "name": "stdout",
     "output_type": "stream",
     "text": [
      "Sum of first 10 natural numbers: 55\n"
     ]
    }
   ],
   "source": [
    "sum = 0\n",
    "\n",
    "for i in range(1, 11):\n",
    "    sum = sum + i\n",
    "print(\"Sum of first 10 natural numbers:\", sum)\n"
   ]
  },
  {
   "cell_type": "code",
   "execution_count": 18,
   "id": "5bb331b1-901c-4e13-a5e7-b2f383e9c6f3",
   "metadata": {},
   "outputs": [
    {
     "name": "stdout",
     "output_type": "stream",
     "text": [
      "Product of first 10 natural numbers: 3628800\n"
     ]
    }
   ],
   "source": [
    "product = 1\n",
    "for i in range(1, 11):\n",
    "    product = product * i\n",
    "print(\"Product of first 10 natural numbers:\", product)\n"
   ]
  },
  {
   "cell_type": "code",
   "execution_count": null,
   "id": "d50fbc83-d102-44bd-b418-9d8319669fbf",
   "metadata": {},
   "outputs": [],
   "source": [
    "PROGRAM USING A \"while\" loop"
   ]
  },
  {
   "cell_type": "code",
   "execution_count": 17,
   "id": "fa5aca31-5130-49d1-b029-6c957f6b923d",
   "metadata": {},
   "outputs": [
    {
     "name": "stdout",
     "output_type": "stream",
     "text": [
      "Sum of first 10 natural numbers: 55\n"
     ]
    }
   ],
   "source": [
    "sum = 0\n",
    "count = 1\n",
    "while count <= 10:\n",
    "    sum = sum + count\n",
    "    count = count + 1\n",
    "print(\"Sum of first 10 natural numbers:\", sum)"
   ]
  },
  {
   "cell_type": "code",
   "execution_count": 19,
   "id": "7b660430-5b08-4a36-9195-23fa0e8a7b18",
   "metadata": {},
   "outputs": [
    {
     "name": "stdout",
     "output_type": "stream",
     "text": [
      "Product of first 10 natural numbers: 3628800\n"
     ]
    }
   ],
   "source": [
    "product = 1\n",
    "count = 1\n",
    "while count <= 10:\n",
    "    product = product * count\n",
    "    count = count + 1\n",
    "print(\"Product of first 10 natural numbers:\", product)\n"
   ]
  },
  {
   "cell_type": "code",
   "execution_count": null,
   "id": "0a75a49a-ad0a-4abf-9c1e-612848de4c1f",
   "metadata": {},
   "outputs": [],
   "source": []
  },
  {
   "cell_type": "code",
   "execution_count": null,
   "id": "839288d4-9410-495b-9fc5-e15030d9b7ec",
   "metadata": {},
   "outputs": [],
   "source": [
    "3: Electricity bill for household."
   ]
  },
  {
   "cell_type": "code",
   "execution_count": 34,
   "id": "0ffb3e90-097e-44b0-ac78-2c832f48efc4",
   "metadata": {},
   "outputs": [
    {
     "name": "stdin",
     "output_type": "stream",
     "text": [
      "units consumed: 310\n"
     ]
    },
    {
     "name": "stdout",
     "output_type": "stream",
     "text": [
      "The total electricity bill is: 2250.0\n"
     ]
    }
   ],
   "source": [
    "units = int(input(\"units consumed:\"))\n",
    "if units <= 100:\n",
    "    bill = units * 4.5\n",
    "elif units <= 200:\n",
    "    bill = 100 * 4.5 + (units - 100) * 6\n",
    "elif units <= 300:\n",
    "    bill = 100 * 4.5 + 100 * 6 + (units - 200) * 10\n",
    "else:\n",
    "    bill = 100 * 4.5 + 100 * 6 + 100 * 10 + (units - 300) * 20\n",
    "print(\"The total electricity bill is:\",bill)\n"
   ]
  },
  {
   "cell_type": "code",
   "execution_count": null,
   "id": "33c0afb3-7fd4-42ab-8400-166420368f34",
   "metadata": {},
   "outputs": [],
   "source": []
  },
  {
   "cell_type": "code",
   "execution_count": null,
   "id": "88fa8a44-8f46-41bf-9007-5902bbef336c",
   "metadata": {},
   "outputs": [],
   "source": [
    "4: Here's\n",
    "\"Python program that uses a 'for' loop\"..."
   ]
  },
  {
   "cell_type": "code",
   "execution_count": 36,
   "id": "f3835250-32e8-48d1-9a0b-8bcc2665a5e3",
   "metadata": {},
   "outputs": [
    {
     "name": "stdout",
     "output_type": "stream",
     "text": [
      "[8, 64, 216, 512, 1000, 1728, 2744, 4096, 5832, 8000, 10648, 13824, 17576, 21952, 27000, 32768, 39304, 46656, 54872, 64000, 74088, 85184, 97336, 110592, 125000, 140608, 157464, 175616, 195112, 216000, 238328, 262144, 287496, 314432, 343000, 373248, 405224, 438976, 474552, 512000, 551368, 592704, 636056, 681472, 729000, 778688, 830584, 884736, 941192, 1000000]\n"
     ]
    }
   ],
   "source": [
    "numbers = []\n",
    "for i in range(1, 101):\n",
    "    cube = i**3\n",
    "    if cube % 4 == 0:\n",
    "        numbers.append(cube)\n",
    "print(numbers)\n"
   ]
  },
  {
   "cell_type": "code",
   "execution_count": 37,
   "id": "dccb5399-4b0f-4705-ac7c-23cae4ef37b4",
   "metadata": {},
   "outputs": [
    {
     "name": "stdout",
     "output_type": "stream",
     "text": [
      "[125, 1000, 3375, 8000, 15625, 27000, 42875, 64000, 91125, 125000, 166375, 216000, 274625, 343000, 421875, 512000, 614125, 729000, 857375, 1000000]\n"
     ]
    }
   ],
   "source": [
    "numbers = []\n",
    "for i in range(1, 101):\n",
    "    cube = i**3\n",
    "    if cube % 5 == 0:\n",
    "        numbers.append(cube)\n",
    "print(numbers)\n"
   ]
  },
  {
   "cell_type": "code",
   "execution_count": null,
   "id": "64c8490e-388e-4e72-b545-2cad9fbb98aa",
   "metadata": {},
   "outputs": [],
   "source": [
    "here's\n",
    "Python program that uses a \"while\" loop"
   ]
  },
  {
   "cell_type": "code",
   "execution_count": 38,
   "id": "da29b5ca-f6c2-4a89-8f60-e4cf121a8517",
   "metadata": {},
   "outputs": [
    {
     "name": "stdout",
     "output_type": "stream",
     "text": [
      "[8, 64, 216, 512, 1000, 1728, 2744, 4096, 5832, 8000, 10648, 13824, 17576, 21952, 27000, 32768, 39304, 46656, 54872, 64000, 74088, 85184, 97336, 110592, 125000, 140608, 157464, 175616, 195112, 216000, 238328, 262144, 287496, 314432, 343000, 373248, 405224, 438976, 474552, 512000, 551368, 592704, 636056, 681472, 729000, 778688, 830584, 884736, 941192, 1000000]\n"
     ]
    }
   ],
   "source": [
    "numbers = []\n",
    "i = 1\n",
    "while i <= 100:\n",
    "    cube = i**3\n",
    "    if cube % 4 == 0:\n",
    "        numbers.append(cube)\n",
    "    i = i + 1\n",
    "print(numbers)\n"
   ]
  },
  {
   "cell_type": "code",
   "execution_count": 39,
   "id": "ed3e9b5d-146f-4f38-b407-fd496a9e3772",
   "metadata": {},
   "outputs": [
    {
     "name": "stdout",
     "output_type": "stream",
     "text": [
      "[125, 1000, 3375, 8000, 15625, 27000, 42875, 64000, 91125, 125000, 166375, 216000, 274625, 343000, 421875, 512000, 614125, 729000, 857375, 1000000]\n"
     ]
    }
   ],
   "source": [
    "numbers = []\n",
    "i = 1\n",
    "while i <= 100:\n",
    "    cube = i**3\n",
    "    if cube % 5 == 0:\n",
    "        numbers.append(cube)\n",
    "    i = i + 1\n",
    "print(numbers)\n"
   ]
  },
  {
   "cell_type": "code",
   "execution_count": null,
   "id": "47c383b2-d582-4bde-9e7d-77204b162f00",
   "metadata": {},
   "outputs": [],
   "source": []
  },
  {
   "cell_type": "code",
   "execution_count": null,
   "id": "83ade3d0-9269-4e88-a81c-5abd3467cc2a",
   "metadata": {},
   "outputs": [],
   "source": [
    "5: Given \n",
    "    string= \"i want to become a data scientist\""
   ]
  },
  {
   "cell_type": "code",
   "execution_count": 41,
   "id": "090b5254-e698-408a-8017-2f87b435f4d7",
   "metadata": {},
   "outputs": [
    {
     "name": "stdout",
     "output_type": "stream",
     "text": [
      "12\n"
     ]
    }
   ],
   "source": [
    "string = \"i want to become a data scientist\"\n",
    "vowels = \"aeiou\"\n",
    "count = 0\n",
    "for i in string:\n",
    "    if i in vowels:\n",
    "        count = count+1\n",
    "print(count)\n"
   ]
  },
  {
   "cell_type": "code",
   "execution_count": null,
   "id": "8c9e343f-9e89-4175-b13b-ea33c26b91d9",
   "metadata": {},
   "outputs": [],
   "source": []
  }
 ],
 "metadata": {
  "kernelspec": {
   "display_name": "Python 3 (ipykernel)",
   "language": "python",
   "name": "python3"
  },
  "language_info": {
   "codemirror_mode": {
    "name": "ipython",
    "version": 3
   },
   "file_extension": ".py",
   "mimetype": "text/x-python",
   "name": "python",
   "nbconvert_exporter": "python",
   "pygments_lexer": "ipython3",
   "version": "3.10.8"
  },
  "toc-autonumbering": true
 },
 "nbformat": 4,
 "nbformat_minor": 5
}
